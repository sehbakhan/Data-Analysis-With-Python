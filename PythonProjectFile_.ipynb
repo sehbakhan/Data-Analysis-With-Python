{
 "cells": [
  {
   "cell_type": "code",
   "execution_count": 3,
   "metadata": {},
   "outputs": [
    {
     "name": "stdout",
     "output_type": "stream",
     "text": [
      "Requirement already satisfied: pandas in c:\\users\\mtr\\appdata\\local\\programs\\python\\python312\\lib\\site-packages (2.2.2)\n",
      "Requirement already satisfied: numpy>=1.26.0 in c:\\users\\mtr\\appdata\\local\\programs\\python\\python312\\lib\\site-packages (from pandas) (2.0.0)\n",
      "Requirement already satisfied: python-dateutil>=2.8.2 in c:\\users\\mtr\\appdata\\roaming\\python\\python312\\site-packages (from pandas) (2.9.0.post0)\n",
      "Requirement already satisfied: pytz>=2020.1 in c:\\users\\mtr\\appdata\\local\\programs\\python\\python312\\lib\\site-packages (from pandas) (2024.1)\n",
      "Requirement already satisfied: tzdata>=2022.7 in c:\\users\\mtr\\appdata\\local\\programs\\python\\python312\\lib\\site-packages (from pandas) (2024.1)\n",
      "Requirement already satisfied: six>=1.5 in c:\\users\\mtr\\appdata\\roaming\\python\\python312\\site-packages (from python-dateutil>=2.8.2->pandas) (1.16.0)\n",
      "Note: you may need to restart the kernel to use updated packages.\n"
     ]
    },
    {
     "name": "stderr",
     "output_type": "stream",
     "text": [
      "\n",
      "[notice] A new release of pip is available: 24.0 -> 24.1.1\n",
      "[notice] To update, run: python.exe -m pip install --upgrade pip\n"
     ]
    }
   ],
   "source": [
    "pip install pandas"
   ]
  },
  {
   "cell_type": "code",
   "execution_count": 4,
   "metadata": {},
   "outputs": [],
   "source": [
    "import pandas as pd "
   ]
  },
  {
   "cell_type": "code",
   "execution_count": 5,
   "metadata": {},
   "outputs": [],
   "source": [
    "df = pd.read_csv(\"customer_purchase_data.csv\")"
   ]
  },
  {
   "cell_type": "code",
   "execution_count": 4,
   "metadata": {},
   "outputs": [
    {
     "data": {
      "text/html": [
       "<div>\n",
       "<style scoped>\n",
       "    .dataframe tbody tr th:only-of-type {\n",
       "        vertical-align: middle;\n",
       "    }\n",
       "\n",
       "    .dataframe tbody tr th {\n",
       "        vertical-align: top;\n",
       "    }\n",
       "\n",
       "    .dataframe thead th {\n",
       "        text-align: right;\n",
       "    }\n",
       "</style>\n",
       "<table border=\"1\" class=\"dataframe\">\n",
       "  <thead>\n",
       "    <tr style=\"text-align: right;\">\n",
       "      <th></th>\n",
       "      <th>TransactionID</th>\n",
       "      <th>CustomerID</th>\n",
       "      <th>CustomerName</th>\n",
       "      <th>ProductID</th>\n",
       "      <th>ProductName</th>\n",
       "      <th>ProductCategory</th>\n",
       "      <th>PurchaseQuantity</th>\n",
       "      <th>PurchasePrice</th>\n",
       "      <th>PurchaseDate</th>\n",
       "      <th>Country</th>\n",
       "    </tr>\n",
       "  </thead>\n",
       "  <tbody>\n",
       "    <tr>\n",
       "      <th>0</th>\n",
       "      <td>1</td>\n",
       "      <td>887</td>\n",
       "      <td>Kenneth Martinez</td>\n",
       "      <td>240</td>\n",
       "      <td>Router</td>\n",
       "      <td>Electronics</td>\n",
       "      <td>5</td>\n",
       "      <td>689.99</td>\n",
       "      <td>3/1/2024</td>\n",
       "      <td>Barbados</td>\n",
       "    </tr>\n",
       "    <tr>\n",
       "      <th>1</th>\n",
       "      <td>2</td>\n",
       "      <td>560</td>\n",
       "      <td>Joseph Anderson</td>\n",
       "      <td>299</td>\n",
       "      <td>Camera</td>\n",
       "      <td>Electronics</td>\n",
       "      <td>4</td>\n",
       "      <td>79.27</td>\n",
       "      <td>1/26/2024</td>\n",
       "      <td>Northern Mariana Islands</td>\n",
       "    </tr>\n",
       "    <tr>\n",
       "      <th>2</th>\n",
       "      <td>3</td>\n",
       "      <td>701</td>\n",
       "      <td>Vincent Reynolds</td>\n",
       "      <td>207</td>\n",
       "      <td>Electric Kettle</td>\n",
       "      <td>Home Appliances</td>\n",
       "      <td>3</td>\n",
       "      <td>666.75</td>\n",
       "      <td>5/13/2024</td>\n",
       "      <td>British Virgin Islands</td>\n",
       "    </tr>\n",
       "    <tr>\n",
       "      <th>3</th>\n",
       "      <td>4</td>\n",
       "      <td>630</td>\n",
       "      <td>Christopher Morris</td>\n",
       "      <td>290</td>\n",
       "      <td>Smartwatch</td>\n",
       "      <td>Electronics</td>\n",
       "      <td>5</td>\n",
       "      <td>316.19</td>\n",
       "      <td>9/21/2023</td>\n",
       "      <td>Guatemala</td>\n",
       "    </tr>\n",
       "    <tr>\n",
       "      <th>4</th>\n",
       "      <td>5</td>\n",
       "      <td>631</td>\n",
       "      <td>Sarah King</td>\n",
       "      <td>281</td>\n",
       "      <td>Toaster</td>\n",
       "      <td>Home Appliances</td>\n",
       "      <td>4</td>\n",
       "      <td>700.24</td>\n",
       "      <td>1/25/2024</td>\n",
       "      <td>Falkland Islands (Malvinas)</td>\n",
       "    </tr>\n",
       "    <tr>\n",
       "      <th>...</th>\n",
       "      <td>...</td>\n",
       "      <td>...</td>\n",
       "      <td>...</td>\n",
       "      <td>...</td>\n",
       "      <td>...</td>\n",
       "      <td>...</td>\n",
       "      <td>...</td>\n",
       "      <td>...</td>\n",
       "      <td>...</td>\n",
       "      <td>...</td>\n",
       "    </tr>\n",
       "    <tr>\n",
       "      <th>995</th>\n",
       "      <td>996</td>\n",
       "      <td>277</td>\n",
       "      <td>Larry Garcia</td>\n",
       "      <td>253</td>\n",
       "      <td>Electric Kettle</td>\n",
       "      <td>Home Appliances</td>\n",
       "      <td>2</td>\n",
       "      <td>796.67</td>\n",
       "      <td>1/3/2024</td>\n",
       "      <td>Gabon</td>\n",
       "    </tr>\n",
       "    <tr>\n",
       "      <th>996</th>\n",
       "      <td>997</td>\n",
       "      <td>340</td>\n",
       "      <td>Anthony Smith</td>\n",
       "      <td>233</td>\n",
       "      <td>Smart Bulb</td>\n",
       "      <td>Electronics</td>\n",
       "      <td>5</td>\n",
       "      <td>271.88</td>\n",
       "      <td>11/11/2023</td>\n",
       "      <td>Philippines</td>\n",
       "    </tr>\n",
       "    <tr>\n",
       "      <th>997</th>\n",
       "      <td>998</td>\n",
       "      <td>262</td>\n",
       "      <td>Scott Gordon</td>\n",
       "      <td>208</td>\n",
       "      <td>Air Conditioner</td>\n",
       "      <td>Home Appliances</td>\n",
       "      <td>5</td>\n",
       "      <td>594.69</td>\n",
       "      <td>11/4/2023</td>\n",
       "      <td>Jersey</td>\n",
       "    </tr>\n",
       "    <tr>\n",
       "      <th>998</th>\n",
       "      <td>999</td>\n",
       "      <td>216</td>\n",
       "      <td>Barbara Walker</td>\n",
       "      <td>233</td>\n",
       "      <td>Printer</td>\n",
       "      <td>Electronics</td>\n",
       "      <td>4</td>\n",
       "      <td>140.89</td>\n",
       "      <td>11/5/2023</td>\n",
       "      <td>Slovenia</td>\n",
       "    </tr>\n",
       "    <tr>\n",
       "      <th>999</th>\n",
       "      <td>1000</td>\n",
       "      <td>463</td>\n",
       "      <td>Patricia Hawkins</td>\n",
       "      <td>219</td>\n",
       "      <td>Television</td>\n",
       "      <td>Electronics</td>\n",
       "      <td>5</td>\n",
       "      <td>861.00</td>\n",
       "      <td>5/22/2024</td>\n",
       "      <td>Portugal</td>\n",
       "    </tr>\n",
       "  </tbody>\n",
       "</table>\n",
       "<p>1000 rows × 10 columns</p>\n",
       "</div>"
      ],
      "text/plain": [
       "     TransactionID  CustomerID        CustomerName  ProductID  \\\n",
       "0                1         887    Kenneth Martinez        240   \n",
       "1                2         560     Joseph Anderson        299   \n",
       "2                3         701    Vincent Reynolds        207   \n",
       "3                4         630  Christopher Morris        290   \n",
       "4                5         631          Sarah King        281   \n",
       "..             ...         ...                 ...        ...   \n",
       "995            996         277        Larry Garcia        253   \n",
       "996            997         340       Anthony Smith        233   \n",
       "997            998         262        Scott Gordon        208   \n",
       "998            999         216      Barbara Walker        233   \n",
       "999           1000         463    Patricia Hawkins        219   \n",
       "\n",
       "         ProductName  ProductCategory  PurchaseQuantity  PurchasePrice  \\\n",
       "0             Router      Electronics                 5         689.99   \n",
       "1             Camera      Electronics                 4          79.27   \n",
       "2    Electric Kettle  Home Appliances                 3         666.75   \n",
       "3         Smartwatch      Electronics                 5         316.19   \n",
       "4            Toaster  Home Appliances                 4         700.24   \n",
       "..               ...              ...               ...            ...   \n",
       "995  Electric Kettle  Home Appliances                 2         796.67   \n",
       "996       Smart Bulb      Electronics                 5         271.88   \n",
       "997  Air Conditioner  Home Appliances                 5         594.69   \n",
       "998          Printer      Electronics                 4         140.89   \n",
       "999       Television      Electronics                 5         861.00   \n",
       "\n",
       "    PurchaseDate                      Country  \n",
       "0       3/1/2024                     Barbados  \n",
       "1      1/26/2024     Northern Mariana Islands  \n",
       "2      5/13/2024       British Virgin Islands  \n",
       "3      9/21/2023                    Guatemala  \n",
       "4      1/25/2024  Falkland Islands (Malvinas)  \n",
       "..           ...                          ...  \n",
       "995     1/3/2024                        Gabon  \n",
       "996   11/11/2023                  Philippines  \n",
       "997    11/4/2023                       Jersey  \n",
       "998    11/5/2023                     Slovenia  \n",
       "999    5/22/2024                     Portugal  \n",
       "\n",
       "[1000 rows x 10 columns]"
      ]
     },
     "execution_count": 4,
     "metadata": {},
     "output_type": "execute_result"
    }
   ],
   "source": [
    "df"
   ]
  },
  {
   "cell_type": "code",
   "execution_count": 5,
   "metadata": {},
   "outputs": [],
   "source": [
    "import numpy as np"
   ]
  },
  {
   "cell_type": "code",
   "execution_count": 7,
   "metadata": {},
   "outputs": [],
   "source": [
    "import random\n",
    "from datetime import datetime"
   ]
  },
  {
   "cell_type": "code",
   "execution_count": 10,
   "metadata": {},
   "outputs": [],
   "source": [
    "total_purchases = len(df)\n",
    "total_revenue = df['PurchasePrice'].sum()\n",
    "average_purchase_value = total_revenue / total_purchases"
   ]
  },
  {
   "cell_type": "code",
   "execution_count": 29,
   "metadata": {},
   "outputs": [
    {
     "data": {
      "text/plain": [
       "np.float64(489.27471999999995)"
      ]
     },
     "execution_count": 29,
     "metadata": {},
     "output_type": "execute_result"
    }
   ],
   "source": [
    "average_purchase_value"
   ]
  },
  {
   "cell_type": "code",
   "execution_count": 11,
   "metadata": {},
   "outputs": [],
   "source": [
    "# Top customers and their purchasing behavior\n",
    "top_customers = df.groupby('CustomerName')['PurchasePrice'].sum().nlargest(5)\n",
    "customer_behavior = df.groupby('CustomerName')['PurchasePrice'].mean()"
   ]
  },
  {
   "cell_type": "code",
   "execution_count": 6,
   "metadata": {},
   "outputs": [],
   "source": [
    "# Convert 'PurchaseDate' column to datetime format\n",
    "df['PurchaseDate'] = pd.to_datetime(df['PurchaseDate'])\n",
    "\n",
    "# Extract year and month from 'PurchaseDate'\n",
    "df['Year'] = df['PurchaseDate'].dt.year\n",
    "df['Month'] = df['PurchaseDate'].dt.month\n",
    "\n",
    "# Analyze purchase trends over time\n",
    "monthly_trends = df.groupby(['Year', 'Month'])['PurchasePrice'].sum()"
   ]
  },
  {
   "cell_type": "code",
   "execution_count": 7,
   "metadata": {},
   "outputs": [
    {
     "data": {
      "text/plain": [
       "Year  Month\n",
       "2023  6         4012.44\n",
       "      7        47956.69\n",
       "      8        33493.46\n",
       "      9        46764.80\n",
       "      10       38368.97\n",
       "      11       39839.29\n",
       "      12       51910.42\n",
       "2024  1        43575.14\n",
       "      2        41393.77\n",
       "      3        37442.66\n",
       "      4        34165.64\n",
       "      5        42799.97\n",
       "      6        27551.47\n",
       "Name: PurchasePrice, dtype: float64"
      ]
     },
     "execution_count": 7,
     "metadata": {},
     "output_type": "execute_result"
    }
   ],
   "source": [
    "monthly_trends"
   ]
  },
  {
   "cell_type": "code",
   "execution_count": 18,
   "metadata": {},
   "outputs": [],
   "source": [
    "total_revenue = df['PurchasePrice'].sum()"
   ]
  },
  {
   "cell_type": "code",
   "execution_count": 25,
   "metadata": {},
   "outputs": [],
   "source": [
    "df['PurchaseDate'] = pd.to_datetime(df['PurchaseDate'])\n",
    "monthly_trends = df.groupby([df['PurchaseDate'].dt.year, df['PurchaseDate'].dt.month])['PurchasePrice'].sum()"
   ]
  },
  {
   "cell_type": "code",
   "execution_count": 26,
   "metadata": {},
   "outputs": [],
   "source": [
    "yearly_trends = df.groupby(df['PurchaseDate'].dt.year)['PurchasePrice'].sum()"
   ]
  },
  {
   "cell_type": "code",
   "execution_count": 28,
   "metadata": {},
   "outputs": [
    {
     "name": "stdout",
     "output_type": "stream",
     "text": [
      "Total Purchases: 1000\n",
      "Total Revenue: 489274.72\n",
      "Average Purchase Value: 489.27471999999995\n",
      "Top Customers: CustomerName\n",
      "Brittany Miller      1324.45\n",
      "Charles Hernandez    1289.25\n",
      "James Miller         1080.46\n",
      "Christopher Hill     1034.04\n",
      "Jillian Baker         999.98\n",
      "Name: PurchasePrice, dtype: float64\n",
      "Customer Behavior: CustomerName\n",
      "Aaron Arnold Jr.    441.53\n",
      "Aaron Jennings      128.21\n",
      "Aaron Miles         382.91\n",
      "Aaron Rubio         790.76\n",
      "Abigail Davis       219.69\n",
      "                     ...  \n",
      "Yolanda Garrett      53.85\n",
      "Zachary Levy        436.30\n",
      "Zachary Morales     424.48\n",
      "Zachary Vasquez     487.11\n",
      "Zachary White       695.78\n",
      "Name: PurchasePrice, Length: 993, dtype: float64\n",
      "Monthly Trends: PurchaseDate  PurchaseDate\n",
      "2023          6                4012.44\n",
      "              7               47956.69\n",
      "              8               33493.46\n",
      "              9               46764.80\n",
      "              10              38368.97\n",
      "              11              39839.29\n",
      "              12              51910.42\n",
      "2024          1               43575.14\n",
      "              2               41393.77\n",
      "              3               37442.66\n",
      "              4               34165.64\n",
      "              5               42799.97\n",
      "              6               27551.47\n",
      "Name: PurchasePrice, dtype: float64\n",
      "Yearly Trends: PurchaseDate\n",
      "2023    262346.07\n",
      "2024    226928.65\n",
      "Name: PurchasePrice, dtype: float64\n",
      "Top Product Categories: ProductID\n",
      "237    9839.18\n",
      "282    8561.53\n",
      "260    7806.42\n",
      "Name: PurchasePrice, dtype: float64\n"
     ]
    }
   ],
   "source": [
    "top_product_categories = df.groupby('ProductID')['PurchasePrice'].sum().nlargest(3)\n",
    "\n",
    "# Create the summary report dictionary\n",
    "summary_report = {\n",
    "    'Total Purchases': total_purchases,\n",
    "    'Total Revenue': total_revenue,\n",
    "    'Average Purchase Value': average_purchase_value,\n",
    "    'Top Customers': top_customers,\n",
    "    'Customer Behavior': customer_behavior,\n",
    "    'Monthly Trends': monthly_trends,\n",
    "    'Yearly Trends': yearly_trends,\n",
    "    'Top Product Categories': top_product_categories\n",
    "}\n",
    "\n",
    "# Display the summary report\n",
    "for key, value in summary_report.items():\n",
    "    print(f'{key}: {value}')"
   ]
  }
 ],
 "metadata": {
  "kernelspec": {
   "display_name": "Python 3",
   "language": "python",
   "name": "python3"
  },
  "language_info": {
   "codemirror_mode": {
    "name": "ipython",
    "version": 3
   },
   "file_extension": ".py",
   "mimetype": "text/x-python",
   "name": "python",
   "nbconvert_exporter": "python",
   "pygments_lexer": "ipython3",
   "version": "3.12.4"
  }
 },
 "nbformat": 4,
 "nbformat_minor": 2
}
